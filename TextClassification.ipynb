{
 "cells": [
  {
   "cell_type": "code",
   "execution_count": 11,
   "id": "d4873821-feab-49dd-9559-dfbd5956c206",
   "metadata": {},
   "outputs": [],
   "source": [
    "import os\n",
    "import pandas as pd\n",
    "import numpy as np\n",
    "import tensorflow as tf"
   ]
  },
  {
   "cell_type": "code",
   "execution_count": 2,
   "id": "247b7a80-04a6-4d2f-964e-73dcec9d39f3",
   "metadata": {},
   "outputs": [],
   "source": [
    "df=pd.read_csv(os.path.join('datasets','bbc_text_cls.csv'))"
   ]
  },
  {
   "cell_type": "code",
   "execution_count": 3,
   "id": "f01a5009-4bf5-4a58-a5cf-8e12edea938c",
   "metadata": {},
   "outputs": [
    {
     "data": {
      "text/html": [
       "<div>\n",
       "<style scoped>\n",
       "    .dataframe tbody tr th:only-of-type {\n",
       "        vertical-align: middle;\n",
       "    }\n",
       "\n",
       "    .dataframe tbody tr th {\n",
       "        vertical-align: top;\n",
       "    }\n",
       "\n",
       "    .dataframe thead th {\n",
       "        text-align: right;\n",
       "    }\n",
       "</style>\n",
       "<table border=\"1\" class=\"dataframe\">\n",
       "  <thead>\n",
       "    <tr style=\"text-align: right;\">\n",
       "      <th></th>\n",
       "      <th>text</th>\n",
       "      <th>labels</th>\n",
       "    </tr>\n",
       "  </thead>\n",
       "  <tbody>\n",
       "    <tr>\n",
       "      <th>0</th>\n",
       "      <td>Ad sales boost Time Warner profit\\n\\nQuarterly...</td>\n",
       "      <td>business</td>\n",
       "    </tr>\n",
       "    <tr>\n",
       "      <th>1</th>\n",
       "      <td>Dollar gains on Greenspan speech\\n\\nThe dollar...</td>\n",
       "      <td>business</td>\n",
       "    </tr>\n",
       "    <tr>\n",
       "      <th>2</th>\n",
       "      <td>Yukos unit buyer faces loan claim\\n\\nThe owner...</td>\n",
       "      <td>business</td>\n",
       "    </tr>\n",
       "    <tr>\n",
       "      <th>3</th>\n",
       "      <td>High fuel prices hit BA's profits\\n\\nBritish A...</td>\n",
       "      <td>business</td>\n",
       "    </tr>\n",
       "    <tr>\n",
       "      <th>4</th>\n",
       "      <td>Pernod takeover talk lifts Domecq\\n\\nShares in...</td>\n",
       "      <td>business</td>\n",
       "    </tr>\n",
       "  </tbody>\n",
       "</table>\n",
       "</div>"
      ],
      "text/plain": [
       "                                                text    labels\n",
       "0  Ad sales boost Time Warner profit\\n\\nQuarterly...  business\n",
       "1  Dollar gains on Greenspan speech\\n\\nThe dollar...  business\n",
       "2  Yukos unit buyer faces loan claim\\n\\nThe owner...  business\n",
       "3  High fuel prices hit BA's profits\\n\\nBritish A...  business\n",
       "4  Pernod takeover talk lifts Domecq\\n\\nShares in...  business"
      ]
     },
     "execution_count": 3,
     "metadata": {},
     "output_type": "execute_result"
    }
   ],
   "source": [
    "df.head()"
   ]
  },
  {
   "cell_type": "code",
   "execution_count": 29,
   "id": "745222cb-bab2-4c85-8ebc-e4bd3013db74",
   "metadata": {},
   "outputs": [
    {
     "data": {
      "text/plain": [
       "(2225, 2)"
      ]
     },
     "execution_count": 29,
     "metadata": {},
     "output_type": "execute_result"
    }
   ],
   "source": [
    "df.shape"
   ]
  },
  {
   "cell_type": "code",
   "execution_count": 22,
   "id": "052434d1-885e-401d-8f42-71f13d1cc84c",
   "metadata": {},
   "outputs": [
    {
     "data": {
      "text/plain": [
       "array(['business', 'entertainment', 'politics', 'sport', 'tech'],\n",
       "      dtype=object)"
      ]
     },
     "execution_count": 22,
     "metadata": {},
     "output_type": "execute_result"
    }
   ],
   "source": [
    "df['labels'].unique()"
   ]
  },
  {
   "cell_type": "code",
   "execution_count": 56,
   "id": "2e359077-a49e-4fe7-bf3c-8d54ad414bab",
   "metadata": {},
   "outputs": [],
   "source": [
    "import matplotlib.pyplot as plt"
   ]
  },
  {
   "cell_type": "code",
   "execution_count": 58,
   "id": "b9625b29-0e54-4a82-9b4a-535aaaf1b23e",
   "metadata": {},
   "outputs": [
    {
     "data": {
      "image/png": "[encoded data removed]",
      "text/plain": [
       "<Figure size 640x480 with 1 Axes>"
      ]
     },
     "metadata": {},
     "output_type": "display_data"
    }
   ],
   "source": [
    "class_counts = df['labels'].value_counts()\n",
    "plt.bar(class_counts.index, class_counts.values, color='skyblue')\n",
    "\n",
    "# Adding labels and title\n",
    "plt.xlabel('Classes')\n",
    "plt.ylabel('Count')\n",
    "plt.title('Bar Graph of Classes')\n",
    "\n",
    "# Show the plot\n",
    "plt.show()"
   ]
  },
  {
   "cell_type": "code",
   "execution_count": 7,
   "id": "541a7890-adb2-43cb-8bc6-8d7e3b20e400",
   "metadata": {},
   "outputs": [],
   "source": [
    "text=df['text'].values"
   ]
  },
  {
   "cell_type": "code",
   "execution_count": 9,
   "id": "a7082125-a088-4bf2-9965-c819546c1fbb",
   "metadata": {},
   "outputs": [
    {
     "data": {
      "text/plain": [
       "'Ad sales boost Time Warner profit\\n\\nQuarterly profits at US media giant TimeWarner jumped 76% to $1.13bn (£600m) for the three months to December, from $639m year-earlier.\\n\\nThe firm, which is now one of the biggest investors in Google, benefited from sales of high-speed internet connections and higher advert sales. TimeWarner said fourth quarter sales rose 2% to $11.1bn from $10.9bn. Its profits were buoyed by one-off gains which offset a profit dip at Warner Bros, and less users for AOL.\\n\\nTime Warner said on Friday that it now owns 8% of search-engine Google. But its own internet business, AOL, had has mixed fortunes. It lost 464,000 subscribers in the fourth quarter profits were lower than in the preceding three quarters. However, the company said AOL\\'s underlying profit before exceptional items rose 8% on the back of stronger internet advertising revenues. It hopes to increase subscribers by offering the online service free to TimeWarner internet customers and will try to sign up AOL\\'s existing customers for high-speed broadband. TimeWarner also has to restate 2000 and 2003 results following a probe by the US Securities Exchange Commission (SEC), which is close to concluding.\\n\\nTime Warner\\'s fourth quarter profits were slightly better than analysts\\' expectations. But its film division saw profits slump 27% to $284m, helped by box-office flops Alexander and Catwoman, a sharp contrast to year-earlier, when the third and final film in the Lord of the Rings trilogy boosted results. For the full-year, TimeWarner posted a profit of $3.36bn, up 27% from its 2003 performance, while revenues grew 6.4% to $42.09bn. \"Our financial performance was strong, meeting or exceeding all of our full-year objectives and greatly enhancing our flexibility,\" chairman and chief executive Richard Parsons said. For 2005, TimeWarner is projecting operating earnings growth of around 5%, and also expects higher revenue and wider profit margins.\\n\\nTimeWarner is to restate its accounts as part of efforts to resolve an inquiry into AOL by US market regulators. It has already offered to pay $300m to settle charges, in a deal that is under review by the SEC. The company said it was unable to estimate the amount it needed to set aside for legal reserves, which it previously set at $500m. It intends to adjust the way it accounts for a deal with German music publisher Bertelsmann\\'s purchase of a stake in AOL Europe, which it had reported as advertising revenue. It will now book the sale of its stake in AOL Europe as a loss on the value of that stake.'"
      ]
     },
     "execution_count": 9,
     "metadata": {},
     "output_type": "execute_result"
    }
   ],
   "source": [
    "text[0]"
   ]
  },
  {
   "cell_type": "code",
   "execution_count": 86,
   "id": "4197da1e-1e9b-44da-a53b-8fb6e431f697",
   "metadata": {},
   "outputs": [],
   "source": [
    "df=df.sample(frac=1).reset_index(drop=True)"
   ]
  },
  {
   "cell_type": "code",
   "execution_count": 87,
   "id": "b6fc8b52-df76-4674-a18f-4c1b0c027986",
   "metadata": {},
   "outputs": [
    {
     "data": {
      "text/html": [
       "<div>\n",
       "<style scoped>\n",
       "    .dataframe tbody tr th:only-of-type {\n",
       "        vertical-align: middle;\n",
       "    }\n",
       "\n",
       "    .dataframe tbody tr th {\n",
       "        vertical-align: top;\n",
       "    }\n",
       "\n",
       "    .dataframe thead th {\n",
       "        text-align: right;\n",
       "    }\n",
       "</style>\n",
       "<table border=\"1\" class=\"dataframe\">\n",
       "  <thead>\n",
       "    <tr style=\"text-align: right;\">\n",
       "      <th></th>\n",
       "      <th>text</th>\n",
       "      <th>labels</th>\n",
       "    </tr>\n",
       "  </thead>\n",
       "  <tbody>\n",
       "    <tr>\n",
       "      <th>0</th>\n",
       "      <td>Blair buys copies of new Band Aid\\n\\nPrime Min...</td>\n",
       "      <td>entertainment</td>\n",
       "    </tr>\n",
       "    <tr>\n",
       "      <th>1</th>\n",
       "      <td>Stern dropped from radio stations\\n\\nControver...</td>\n",
       "      <td>entertainment</td>\n",
       "    </tr>\n",
       "    <tr>\n",
       "      <th>2</th>\n",
       "      <td>Novartis hits acquisition trail\\n\\nSwiss drugm...</td>\n",
       "      <td>business</td>\n",
       "    </tr>\n",
       "    <tr>\n",
       "      <th>3</th>\n",
       "      <td>South African car demand surges\\n\\nCar manufac...</td>\n",
       "      <td>business</td>\n",
       "    </tr>\n",
       "    <tr>\n",
       "      <th>4</th>\n",
       "      <td>Music mogul Fuller sells company\\n\\nPop Idol s...</td>\n",
       "      <td>entertainment</td>\n",
       "    </tr>\n",
       "  </tbody>\n",
       "</table>\n",
       "</div>"
      ],
      "text/plain": [
       "                                                text         labels\n",
       "0  Blair buys copies of new Band Aid\\n\\nPrime Min...  entertainment\n",
       "1  Stern dropped from radio stations\\n\\nControver...  entertainment\n",
       "2  Novartis hits acquisition trail\\n\\nSwiss drugm...       business\n",
       "3  South African car demand surges\\n\\nCar manufac...       business\n",
       "4  Music mogul Fuller sells company\\n\\nPop Idol s...  entertainment"
      ]
     },
     "execution_count": 87,
     "metadata": {},
     "output_type": "execute_result"
    }
   ],
   "source": [
    "df.head()"
   ]
  },
  {
   "cell_type": "code",
   "execution_count": 88,
   "id": "9428cf2a-2f75-4200-aa8d-90ea214ac598",
   "metadata": {},
   "outputs": [],
   "source": [
    "from tensorflow.keras.preprocessing.text import Tokenizer\n",
    "from tensorflow.keras.preprocessing.sequence import pad_sequences"
   ]
  },
  {
   "cell_type": "code",
   "execution_count": 89,
   "id": "58d6d93c-4214-4643-a15f-cb1f5bd28b56",
   "metadata": {},
   "outputs": [],
   "source": [
    "MAX_FEATURES=20000\n",
    "tokenizer=Tokenizer(num_words=MAX_FEATURES)\n",
    "tokenizer.fit_on_texts(text)"
   ]
  },
  {
   "cell_type": "code",
   "execution_count": 90,
   "id": "e4c0d45d-2715-4a6e-91ca-b95ee5933fe3",
   "metadata": {},
   "outputs": [],
   "source": [
    "sequences=tokenizer.texts_to_sequences(text)"
   ]
  },
  {
   "cell_type": "code",
   "execution_count": 91,
   "id": "84c8f9e5-5efc-40e3-97e0-7741ec20ecd6",
   "metadata": {},
   "outputs": [
    {
     "data": {
      "text/plain": [
       "2225"
      ]
     },
     "execution_count": 91,
     "metadata": {},
     "output_type": "execute_result"
    }
   ],
   "source": [
    "len(sequences)"
   ]
  },
  {
   "cell_type": "code",
   "execution_count": 92,
   "id": "2fb7d2cc-93ec-4196-b064-4e59a0b94039",
   "metadata": {},
   "outputs": [],
   "source": [
    "padded_sequences=pad_sequences(sequences,padding='post')"
   ]
  },
  {
   "cell_type": "code",
   "execution_count": 93,
   "id": "dad84c1f-d31d-4e3a-aa12-e6d8e8c3280a",
   "metadata": {},
   "outputs": [
    {
     "data": {
      "text/plain": [
       "(2225, 4363)"
      ]
     },
     "execution_count": 93,
     "metadata": {},
     "output_type": "execute_result"
    }
   ],
   "source": [
    "padded_sequences.shape"
   ]
  },
  {
   "cell_type": "code",
   "execution_count": 94,
   "id": "b9f2ed85-e9cc-44c0-9a65-161489738f24",
   "metadata": {},
   "outputs": [
    {
     "data": {
      "text/plain": [
       "32359"
      ]
     },
     "execution_count": 94,
     "metadata": {},
     "output_type": "execute_result"
    }
   ],
   "source": [
    "word2idx=tokenizer.word_index\n",
    "vocab_size=len(word2idx)\n",
    "vocab_size"
   ]
  },
  {
   "cell_type": "code",
   "execution_count": 95,
   "id": "39dc5550-91d5-4193-8684-62b17bc41f2c",
   "metadata": {},
   "outputs": [],
   "source": [
    "labels=df['labels'].map({\"business\":0,\"entertainment\":1,\"politics\":2,\"sport\":3,\"tech\":4}).values"
   ]
  },
  {
   "cell_type": "code",
   "execution_count": 96,
   "id": "670f385b-53e2-4cf4-be61-8420a34d4368",
   "metadata": {},
   "outputs": [
    {
     "data": {
      "text/plain": [
       "array([1, 1, 0, ..., 3, 1, 0], dtype=int64)"
      ]
     },
     "execution_count": 96,
     "metadata": {},
     "output_type": "execute_result"
    }
   ],
   "source": [
    "labels"
   ]
  },
  {
   "cell_type": "code",
   "execution_count": 97,
   "id": "3e0e7a02-1885-42f7-b3f2-38a2dea80c5c",
   "metadata": {},
   "outputs": [],
   "source": [
    "from tensorflow.keras.utils import to_categorical"
   ]
  },
  {
   "cell_type": "code",
   "execution_count": 98,
   "id": "79921246-89ca-4464-8ec6-b0f3136b44ca",
   "metadata": {},
   "outputs": [],
   "source": [
    "labels=to_categorical(labels,num_classes=5)"
   ]
  },
  {
   "cell_type": "code",
   "execution_count": 99,
   "id": "36e11204-b188-4323-9700-83ceac4f520d",
   "metadata": {},
   "outputs": [
    {
     "data": {
      "text/plain": [
       "array([[0., 1., 0., 0., 0.],\n",
       "       [0., 1., 0., 0., 0.],\n",
       "       [1., 0., 0., 0., 0.],\n",
       "       ...,\n",
       "       [0., 0., 0., 1., 0.],\n",
       "       [0., 1., 0., 0., 0.],\n",
       "       [1., 0., 0., 0., 0.]], dtype=float32)"
      ]
     },
     "execution_count": 99,
     "metadata": {},
     "output_type": "execute_result"
    }
   ],
   "source": [
    "labels"
   ]
  },
  {
   "cell_type": "code",
   "execution_count": 100,
   "id": "2590b224-b64e-4123-abaf-d49f5ca40849",
   "metadata": {},
   "outputs": [],
   "source": [
    "dataset=tf.data.Dataset.from_tensor_slices((padded_sequences,labels))\n",
    "dataset=dataset.cache()\n",
    "dataset=dataset.shuffle(100)\n",
    "dataset=dataset.batch(16)\n",
    "dataset=dataset.prefetch(8)"
   ]
  },
  {
   "cell_type": "code",
   "execution_count": 101,
   "id": "963c97dc-b6b5-4359-be34-aa7d967e1c9a",
   "metadata": {},
   "outputs": [],
   "source": [
    "train=dataset.take(int(len(dataset)*.7))\n",
    "val=dataset.skip(int(len(dataset)*.7)).take(int(len(dataset)*.2))\n",
    "test=dataset.skip(int(len(dataset)*.9)).take(int(len(dataset)*.1))"
   ]
  },
  {
   "cell_type": "code",
   "execution_count": 102,
   "id": "04058b6b-c193-4c82-90b4-bed46a06952c",
   "metadata": {},
   "outputs": [],
   "source": [
    "input_size=train.as_numpy_iterator().next()[0].shape[1]"
   ]
  },
  {
   "cell_type": "code",
   "execution_count": 103,
   "id": "c3bf4326-46c4-4eb5-b50c-07f3733e42fd",
   "metadata": {},
   "outputs": [
    {
     "data": {
      "text/plain": [
       "4363"
      ]
     },
     "execution_count": 103,
     "metadata": {},
     "output_type": "execute_result"
    }
   ],
   "source": [
    "input_size"
   ]
  },
  {
   "cell_type": "code",
   "execution_count": 104,
   "id": "1f54f460-5d4f-4ca1-a8a1-f485972c5e16",
   "metadata": {},
   "outputs": [],
   "source": [
    "from tensorflow.keras.models import Model\n",
    "from tensorflow.keras.layers import Conv1D,Dense,GlobalMaxPooling1D,Embedding,Input,LSTM,Bidirectional"
   ]
  },
  {
   "cell_type": "code",
   "execution_count": 113,
   "id": "a12fdf17-ff5c-4456-8984-b3b753c8c49c",
   "metadata": {},
   "outputs": [],
   "source": [
    "i=Input(shape=(input_size,))\n",
    "e=Embedding(vocab_size+1,64)(i)\n",
    "l1=Conv1D(64,kernel_size=3,activation='relu')(e)\n",
    "# l1=Bidirectional(LSTM(64,activation='tanh'))(e)\n",
    "# l2=GlobalMaxPooling1D()(l1)\n",
    "# l3=Conv1D(128,kernel_size=3,activation='relu')(l1)\n",
    "# l3=Dense(128,activation='relu')(l1)\n",
    "# l4=Dense(256,activation='relu')(l3)\n",
    "# l5=Dense(64,activation='relu')(l3)\n",
    "l4=GlobalMaxPooling1D()(l1)\n",
    "output=Dense(5,activation='softmax')(l4)\n",
    "model=Model(i,output)"
   ]
  },
  {
   "cell_type": "code",
   "execution_count": 114,
   "id": "f46ed961-5c5d-480a-8f11-463cc6cce7fb",
   "metadata": {},
   "outputs": [],
   "source": [
    "model.compile(loss='categorical_crossentropy',optimizer='adam',metrics=['accuracy'])"
   ]
  },
  {
   "cell_type": "code",
   "execution_count": 115,
   "id": "3aeec7f8-54b4-469c-a62f-0bf5dbfd371b",
   "metadata": {},
   "outputs": [
    {
     "name": "stdout",
     "output_type": "stream",
     "text": [
      "Model: \"model_10\"\n",
      "_________________________________________________________________\n",
      " Layer (type)                Output Shape              Param #   \n",
      "=================================================================\n",
      " input_15 (InputLayer)       [(None, 4363)]            0         \n",
      "                                                                 \n",
      " embedding_13 (Embedding)    (None, 4363, 64)          2071040   \n",
      "                                                                 \n",
      " conv1d_16 (Conv1D)          (None, 4361, 64)          12352     \n",
      "                                                                 \n",
      " global_max_pooling1d_9 (Glo  (None, 64)               0         \n",
      " balMaxPooling1D)                                                \n",
      "                                                                 \n",
      " dense_22 (Dense)            (None, 5)                 325       \n",
      "                                                                 \n",
      "=================================================================\n",
      "Total params: 2,083,717\n",
      "Trainable params: 2,083,717\n",
      "Non-trainable params: 0\n",
      "_________________________________________________________________\n"
     ]
    }
   ],
   "source": [
    "model.summary()"
   ]
  },
  {
   "cell_type": "code",
   "execution_count": null,
   "id": "bc939fcc-f660-4774-9f50-b46789a60585",
   "metadata": {},
   "outputs": [
    {
     "name": "stdout",
     "output_type": "stream",
     "text": [
      "Epoch 1/20\n",
      "98/98 [==============================] - 19s 189ms/step - loss: 1.6064 - accuracy: 0.2277 - val_loss: 1.6012 - val_accuracy: 0.2143\n",
      "Epoch 2/20\n",
      "98/98 [==============================] - 18s 182ms/step - loss: 1.5328 - accuracy: 0.3323 - val_loss: 1.5855 - val_accuracy: 0.2455\n",
      "Epoch 3/20\n",
      "98/98 [==============================] - 18s 183ms/step - loss: 1.4233 - accuracy: 0.5874 - val_loss: 1.5782 - val_accuracy: 0.2589\n",
      "Epoch 4/20\n",
      "98/98 [==============================] - 18s 182ms/step - loss: 1.2211 - accuracy: 0.8272 - val_loss: 1.5477 - val_accuracy: 0.3036\n",
      "Epoch 5/20\n",
      "98/98 [==============================] - 18s 182ms/step - loss: 0.9004 - accuracy: 0.9254 - val_loss: 1.5236 - val_accuracy: 0.3192\n",
      "Epoch 6/20\n",
      "98/98 [==============================] - 18s 182ms/step - loss: 0.5576 - accuracy: 0.9413 - val_loss: 1.5038 - val_accuracy: 0.3214\n",
      "Epoch 7/20\n",
      "98/98 [==============================] - 18s 183ms/step - loss: 0.3245 - accuracy: 0.9420 - val_loss: 1.4875 - val_accuracy: 0.3214\n",
      "Epoch 8/20\n",
      "98/98 [==============================] - 18s 182ms/step - loss: 0.2172 - accuracy: 0.9413 - val_loss: 1.5032 - val_accuracy: 0.3371\n",
      "Epoch 9/20\n",
      "98/98 [==============================] - 18s 183ms/step - loss: 0.1741 - accuracy: 0.9439 - val_loss: 1.4824 - val_accuracy: 0.3304\n",
      "Epoch 10/20\n",
      "98/98 [==============================] - 18s 188ms/step - loss: 0.1564 - accuracy: 0.9432 - val_loss: 1.4952 - val_accuracy: 0.3170\n",
      "Epoch 11/20\n",
      "98/98 [==============================] - 18s 188ms/step - loss: 0.1396 - accuracy: 0.9458 - val_loss: 1.5141 - val_accuracy: 0.3371\n",
      "Epoch 12/20\n",
      "98/98 [==============================] - 19s 194ms/step - loss: 0.1352 - accuracy: 0.9471 - val_loss: 1.4957 - val_accuracy: 0.3527\n",
      "Epoch 13/20\n",
      "98/98 [==============================] - 19s 196ms/step - loss: 0.1305 - accuracy: 0.9496 - val_loss: 1.5375 - val_accuracy: 0.3259\n",
      "Epoch 14/20\n",
      "98/98 [==============================] - 19s 190ms/step - loss: 0.1315 - accuracy: 0.9490 - val_loss: 1.5284 - val_accuracy: 0.3504\n",
      "Epoch 15/20\n",
      "98/98 [==============================] - 18s 188ms/step - loss: 0.1249 - accuracy: 0.9464 - val_loss: 1.5433 - val_accuracy: 0.3460\n",
      "Epoch 16/20\n",
      "98/98 [==============================] - 19s 190ms/step - loss: 0.1184 - accuracy: 0.9503 - val_loss: 1.5328 - val_accuracy: 0.3571\n",
      "Epoch 17/20\n",
      "98/98 [==============================] - 19s 189ms/step - loss: 0.1186 - accuracy: 0.9522 - val_loss: 1.5894 - val_accuracy: 0.3460\n",
      "Epoch 18/20\n",
      "98/98 [==============================] - 20s 201ms/step - loss: 0.1182 - accuracy: 0.9522 - val_loss: 1.5541 - val_accuracy: 0.3571\n",
      "Epoch 19/20\n",
      "98/98 [==============================] - 19s 195ms/step - loss: 0.1145 - accuracy: 0.9515 - val_loss: 1.5488 - val_accuracy: 0.3482\n",
      "Epoch 20/20\n",
      "30/98 [========>.....................] - ETA: 13s - loss: 0.0462 - accuracy: 0.9812"
     ]
    }
   ],
   "source": [
    "history=model.fit(train,epochs=20,validation_data=val)"
   ]
  },
  {
   "cell_type": "code",
   "execution_count": null,
   "id": "38409f66-fa09-4f16-a474-79e89c2bd696",
   "metadata": {},
   "outputs": [],
   "source": []
  }
 ],
 "metadata": {
  "kernelspec": {
   "display_name": "Python 3 (ipykernel)",
   "language": "python",
   "name": "python3"
  },
  "language_info": {
   "codemirror_mode": {
    "name": "ipython",
    "version": 3
   },
   "file_extension": ".py",
   "mimetype": "text/x-python",
   "name": "python",
   "nbconvert_exporter": "python",
   "pygments_lexer": "ipython3",
   "version": "3.10.8"
  }
 },
 "nbformat": 4,
 "nbformat_minor": 5
}
