{
 "cells": [
  {
   "cell_type": "code",
   "execution_count": 11,
   "id": "d4873821-feab-49dd-9559-dfbd5956c206",
   "metadata": {},
   "outputs": [],
   "source": [
    "import os\n",
    "import pandas as pd\n",
    "import numpy as np\n",
    "import tensorflow as tf"
   ]
  },
  {
   "cell_type": "code",
   "execution_count": 2,
   "id": "247b7a80-04a6-4d2f-964e-73dcec9d39f3",
   "metadata": {},
   "outputs": [],
   "source": [
    "df=pd.read_csv(os.path.join('datasets','bbc_text_cls.csv'))"
   ]
  },
  {
   "cell_type": "code",
   "execution_count": 3,
   "id": "f01a5009-4bf5-4a58-a5cf-8e12edea938c",
   "metadata": {},
   "outputs": [
    {
     "data": {
      "text/html": [
       "<div>\n",
       "<style scoped>\n",
       "    .dataframe tbody tr th:only-of-type {\n",
       "        vertical-align: middle;\n",
       "    }\n",
       "\n",
       "    .dataframe tbody tr th {\n",
       "        vertical-align: top;\n",
       "    }\n",
       "\n",
       "    .dataframe thead th {\n",
       "        text-align: right;\n",
       "    }\n",
       "</style>\n",
       "<table border=\"1\" class=\"dataframe\">\n",
       "  <thead>\n",
       "    <tr style=\"text-align: right;\">\n",
       "      <th></th>\n",
       "      <th>text</th>\n",
       "      <th>labels</th>\n",
       "    </tr>\n",
       "  </thead>\n",
       "  <tbody>\n",
       "    <tr>\n",
       "      <th>0</th>\n",
       "      <td>Ad sales boost Time Warner profit\\n\\nQuarterly...</td>\n",
       "      <td>business</td>\n",
       "    </tr>\n",
       "    <tr>\n",
       "      <th>1</th>\n",
       "      <td>Dollar gains on Greenspan speech\\n\\nThe dollar...</td>\n",
       "      <td>business</td>\n",
       "    </tr>\n",
       "    <tr>\n",
       "      <th>2</th>\n",
       "      <td>Yukos unit buyer faces loan claim\\n\\nThe owner...</td>\n",
       "      <td>business</td>\n",
       "    </tr>\n",
       "    <tr>\n",
       "      <th>3</th>\n",
       "      <td>High fuel prices hit BA's profits\\n\\nBritish A...</td>\n",
       "      <td>business</td>\n",
       "    </tr>\n",
       "    <tr>\n",
       "      <th>4</th>\n",
       "      <td>Pernod takeover talk lifts Domecq\\n\\nShares in...</td>\n",
       "      <td>business</td>\n",
       "    </tr>\n",
       "  </tbody>\n",
       "</table>\n",
       "</div>"
      ],
      "text/plain": [
       "                                                text    labels\n",
       "0  Ad sales boost Time Warner profit\\n\\nQuarterly...  business\n",
       "1  Dollar gains on Greenspan speech\\n\\nThe dollar...  business\n",
       "2  Yukos unit buyer faces loan claim\\n\\nThe owner...  business\n",
       "3  High fuel prices hit BA's profits\\n\\nBritish A...  business\n",
       "4  Pernod takeover talk lifts Domecq\\n\\nShares in...  business"
      ]
     },
     "execution_count": 3,
     "metadata": {},
     "output_type": "execute_result"
    }
   ],
   "source": [
    "df.head()"
   ]
  },
  {
   "cell_type": "code",
   "execution_count": 29,
   "id": "745222cb-bab2-4c85-8ebc-e4bd3013db74",
   "metadata": {},
   "outputs": [
    {
     "data": {
      "text/plain": [
       "(2225, 2)"
      ]
     },
     "execution_count": 29,
     "metadata": {},
     "output_type": "execute_result"
    }
   ],
   "source": [
    "df.shape"
   ]
  },
  {
   "cell_type": "code",
   "execution_count": 22,
   "id": "052434d1-885e-401d-8f42-71f13d1cc84c",
   "metadata": {},
   "outputs": [
    {
     "data": {
      "text/plain": [
       "array(['business', 'entertainment', 'politics', 'sport', 'tech'],\n",
       "      dtype=object)"
      ]
     },
     "execution_count": 22,
     "metadata": {},
     "output_type": "execute_result"
    }
   ],
   "source": [
    "df['labels'].unique()"
   ]
  },
  {
   "cell_type": "code",
   "execution_count": 56,
   "id": "2e359077-a49e-4fe7-bf3c-8d54ad414bab",
   "metadata": {},
   "outputs": [],
   "source": [
    "import matplotlib.pyplot as plt"
   ]
  },
  {
   "cell_type": "code",
   "execution_count": 58,
   "id": "b9625b29-0e54-4a82-9b4a-535aaaf1b23e",
   "metadata": {},
   "outputs": [
    {
     "data": {
      "image/png": "[encoded data removed]",
      "text/plain": [
       "<Figure size 640x480 with 1 Axes>"
      ]
     },
     "metadata": {},
     "output_type": "display_data"
    }
   ],
   "source": [
    "class_counts = df['labels'].value_counts()\n",
    "plt.bar(class_counts.index, class_counts.values, color='skyblue')\n",
    "\n",
    "# Adding labels and title\n",
    "plt.xlabel('Classes')\n",
    "plt.ylabel('Count')\n",
    "plt.title('Bar Graph of Classes')\n",
    "\n",
    "# Show the plot\n",
    "plt.show()"
   ]
  },
  {
   "cell_type": "code",
   "execution_count": 7,
   "id": "541a7890-adb2-43cb-8bc6-8d7e3b20e400",
   "metadata": {},
   "outputs": [],
   "source": [
    "text=df['text'].values"
   ]
  },
  {
   "cell_type": "code",
   "execution_count": 9,
   "id": "a7082125-a088-4bf2-9965-c819546c1fbb",
   "metadata": {},
   "outputs": [
    {
     "data": {
      "text/plain": [
       "'Ad sales boost Time Warner profit\\n\\nQuarterly profits at US media giant TimeWarner jumped 76% to $1.13bn (£600m) for the three months to December, from $639m year-earlier.\\n\\nThe firm, which is now one of the biggest investors in Google, benefited from sales of high-speed internet connections and higher advert sales. TimeWarner said fourth quarter sales rose 2% to $11.1bn from $10.9bn. Its profits were buoyed by one-off gains which offset a profit dip at Warner Bros, and less users for AOL.\\n\\nTime Warner said on Friday that it now owns 8% of search-engine Google. But its own internet business, AOL, had has mixed fortunes. It lost 464,000 subscribers in the fourth quarter profits were lower than in the preceding three quarters. However, the company said AOL\\'s underlying profit before exceptional items rose 8% on the back of stronger internet advertising revenues. It hopes to increase subscribers by offering the online service free to TimeWarner internet customers and will try to sign up AOL\\'s existing customers for high-speed broadband. TimeWarner also has to restate 2000 and 2003 results following a probe by the US Securities Exchange Commission (SEC), which is close to concluding.\\n\\nTime Warner\\'s fourth quarter profits were slightly better than analysts\\' expectations. But its film division saw profits slump 27% to $284m, helped by box-office flops Alexander and Catwoman, a sharp contrast to year-earlier, when the third and final film in the Lord of the Rings trilogy boosted results. For the full-year, TimeWarner posted a profit of $3.36bn, up 27% from its 2003 performance, while revenues grew 6.4% to $42.09bn. \"Our financial performance was strong, meeting or exceeding all of our full-year objectives and greatly enhancing our flexibility,\" chairman and chief executive Richard Parsons said. For 2005, TimeWarner is projecting operating earnings growth of around 5%, and also expects higher revenue and wider profit margins.\\n\\nTimeWarner is to restate its accounts as part of efforts to resolve an inquiry into AOL by US market regulators. It has already offered to pay $300m to settle charges, in a deal that is under review by the SEC. The company said it was unable to estimate the amount it needed to set aside for legal reserves, which it previously set at $500m. It intends to adjust the way it accounts for a deal with German music publisher Bertelsmann\\'s purchase of a stake in AOL Europe, which it had reported as advertising revenue. It will now book the sale of its stake in AOL Europe as a loss on the value of that stake.'"
      ]
     },
     "execution_count": 9,
     "metadata": {},
     "output_type": "execute_result"
    }
   ],
   "source": [
    "text[0]"
   ]
  },
  {
   "cell_type": "code",
   "execution_count": 86,
   "id": "4197da1e-1e9b-44da-a53b-8fb6e431f697",
   "metadata": {},
   "outputs": [],
   "source": [
    "df=df.sample(frac=1).reset_index(drop=True)"
   ]
  },
  {
   "cell_type": "code",
   "execution_count": 87,
   "id": "b6fc8b52-df76-4674-a18f-4c1b0c027986",
   "metadata": {},
   "outputs": [
    {
     "data": {
      "text/html": [
       "<div>\n",
       "<style scoped>\n",
       "    .dataframe tbody tr th:only-of-type {\n",
       "        vertical-align: middle;\n",
       "    }\n",
       "\n",
       "    .dataframe tbody tr th {\n",
       "        vertical-align: top;\n",
       "    }\n",
       "\n",
       "    .dataframe thead th {\n",
       "        text-align: right;\n",
       "    }\n",
       "</style>\n",
       "<table border=\"1\" class=\"dataframe\">\n",
       "  <thead>\n",
       "    <tr style=\"text-align: right;\">\n",
       "      <th></th>\n",
       "      <th>text</th>\n",
       "      <th>labels</th>\n",
       "    </tr>\n",
       "  </thead>\n",
       "  <tbody>\n",
       "    <tr>\n",
       "      <th>0</th>\n",
       "      <td>Blair buys copies of new Band Aid\\n\\nPrime Min...</td>\n",
       "      <td>entertainment</td>\n",
       "    </tr>\n",
       "    <tr>\n",
       "      <th>1</th>\n",
       "      <td>Stern dropped from radio stations\\n\\nControver...</td>\n",
       "      <td>entertainment</td>\n",
       "    </tr>\n",
       "    <tr>\n",
       "      <th>2</th>\n",
       "      <td>Novartis hits acquisition trail\\n\\nSwiss drugm...</td>\n",
       "      <td>business</td>\n",
       "    </tr>\n",
       "    <tr>\n",
       "      <th>3</th>\n",
       "      <td>South African car demand surges\\n\\nCar manufac...</td>\n",
       "      <td>business</td>\n",
       "    </tr>\n",
       "    <tr>\n",
       "      <th>4</th>\n",
       "      <td>Music mogul Fuller sells company\\n\\nPop Idol s...</td>\n",
       "      <td>entertainment</td>\n",
       "    </tr>\n",
       "  </tbody>\n",
       "</table>\n",
       "</div>"
      ],
      "text/plain": [
       "                                                text         labels\n",
       "0  Blair buys copies of new Band Aid\\n\\nPrime Min...  entertainment\n",
       "1  Stern dropped from radio stations\\n\\nControver...  entertainment\n",
       "2  Novartis hits acquisition trail\\n\\nSwiss drugm...       business\n",
       "3  South African car demand surges\\n\\nCar manufac...       business\n",
       "4  Music mogul Fuller sells company\\n\\nPop Idol s...  entertainment"
      ]
     },
     "execution_count": 87,
     "metadata": {},
     "output_type": "execute_result"
    }
   ],
   "source": [
    "df.head()"
   ]
  },
  {
   "cell_type": "code",
   "execution_count": 88,
   "id": "9428cf2a-2f75-4200-aa8d-90ea214ac598",
   "metadata": {},
   "outputs": [],
   "source": [
    "from tensorflow.keras.preprocessing.text import Tokenizer\n",
    "from tensorflow.keras.preprocessing.sequence import pad_sequences"
   ]
  },
  {
   "cell_type": "code",
   "execution_count": 240,
   "id": "b3073daf-208f-4045-ac09-1afebaa9d74d",
   "metadata": {},
   "outputs": [],
   "source": [
    "df['targets']=df['labels'].astype(\"category\").cat.codes"
   ]
  },
  {
   "cell_type": "code",
   "execution_count": 241,
   "id": "a48957e8-6ed4-422b-9c07-a385f9c97594",
   "metadata": {},
   "outputs": [],
   "source": [
    "from sklearn.model_selection import train_test_split"
   ]
  },
  {
   "cell_type": "code",
   "execution_count": 242,
   "id": "0cb4548d-0d0b-42bf-aca6-b0f546dbde34",
   "metadata": {},
   "outputs": [],
   "source": [
    "df_train,df_test=train_test_split(df,test_size=0.3)"
   ]
  },
  {
   "cell_type": "code",
   "execution_count": 265,
   "id": "58d6d93c-4214-4643-a15f-cb1f5bd28b56",
   "metadata": {},
   "outputs": [],
   "source": [
    "MAX_FEATURES=200000"
   ]
  },
  {
   "cell_type": "code",
   "execution_count": 264,
   "id": "59f92234-8732-45e6-992b-2a01396a1d80",
   "metadata": {},
   "outputs": [],
   "source": [
    "tokenizer=Tokenizer(num_words=MAX_FEATURES)\n",
    "tokenizer.fit_on_texts(df_train['text'])\n",
    "sequences_train=tokenizer.texts_to_sequences(df_train['text'])\n",
    "sequences_test=tokenizer.texts_to_sequences(df_test['text'])"
   ]
  },
  {
   "cell_type": "code",
   "execution_count": 263,
   "id": "9ce9c4a6-48bf-4c8d-aaf6-849c77a89a9d",
   "metadata": {},
   "outputs": [
    {
     "data": {
      "text/plain": [
       "32359"
      ]
     },
     "execution_count": 263,
     "metadata": {},
     "output_type": "execute_result"
    }
   ],
   "source": [
    "word2idx=tokenizer.word_index\n",
    "V=len(word2idx)\n",
    "V"
   ]
  },
  {
   "cell_type": "code",
   "execution_count": 245,
   "id": "6959dc0d-46b9-4616-bea1-8fe885fefc6d",
   "metadata": {},
   "outputs": [
    {
     "data": {
      "text/plain": [
       "4440"
      ]
     },
     "execution_count": 245,
     "metadata": {},
     "output_type": "execute_result"
    }
   ],
   "source": [
    "data_train=pad_sequences(sequences_train)\n",
    "data_train.shape[1]"
   ]
  },
  {
   "cell_type": "code",
   "execution_count": 247,
   "id": "2e3cf2d4-75ec-4a0a-baa5-86e92434cf46",
   "metadata": {},
   "outputs": [],
   "source": [
    "data_test=pad_sequences(sequences_test, maxlen=data_train.shape[1])"
   ]
  },
  {
   "cell_type": "code",
   "execution_count": 197,
   "id": "1f54f460-5d4f-4ca1-a8a1-f485972c5e16",
   "metadata": {},
   "outputs": [],
   "source": [
    "from tensorflow.keras.models import Model\n",
    "from tensorflow.keras.layers import Conv1D,Dense,GlobalMaxPooling1D,Embedding,Input,LSTM,Bidirectional"
   ]
  },
  {
   "cell_type": "code",
   "execution_count": 257,
   "id": "a12fdf17-ff5c-4456-8984-b3b753c8c49c",
   "metadata": {},
   "outputs": [],
   "source": [
    "i=Input(shape=(data_train.shape[1],))\n",
    "e=Embedding(vocab_size+1,32)(i)\n",
    "l1=Conv1D(64,5,activation='relu')(e)\n",
    "l2=GlobalMaxPooling1D()(l1)\n",
    "\n",
    "output=Dense(5)(l2)\n",
    "model=Model(i,output)"
   ]
  },
  {
   "cell_type": "code",
   "execution_count": 259,
   "id": "f46ed961-5c5d-480a-8f11-463cc6cce7fb",
   "metadata": {},
   "outputs": [],
   "source": [
    "model.compile(loss=tf.keras.losses.SparseCategoricalCrossentropy(from_logits=True),optimizer='adam',metrics=['accuracy'])"
   ]
  },
  {
   "cell_type": "code",
   "execution_count": 260,
   "id": "3aeec7f8-54b4-469c-a62f-0bf5dbfd371b",
   "metadata": {},
   "outputs": [
    {
     "name": "stdout",
     "output_type": "stream",
     "text": [
      "Model: \"model_31\"\n",
      "_________________________________________________________________\n",
      " Layer (type)                Output Shape              Param #   \n",
      "=================================================================\n",
      " input_38 (InputLayer)       [(None, 4440)]            0         \n",
      "                                                                 \n",
      " embedding_36 (Embedding)    (None, 4440, 32)          1035520   \n",
      "                                                                 \n",
      " conv1d_29 (Conv1D)          (None, 4436, 64)          10304     \n",
      "                                                                 \n",
      " global_max_pooling1d_31 (Gl  (None, 64)               0         \n",
      " obalMaxPooling1D)                                               \n",
      "                                                                 \n",
      " dense_50 (Dense)            (None, 5)                 325       \n",
      "                                                                 \n",
      "=================================================================\n",
      "Total params: 1,046,149\n",
      "Trainable params: 1,046,149\n",
      "Non-trainable params: 0\n",
      "_________________________________________________________________\n"
     ]
    }
   ],
   "source": [
    "model.summary()"
   ]
  },
  {
   "cell_type": "code",
   "execution_count": 261,
   "id": "bc939fcc-f660-4774-9f50-b46789a60585",
   "metadata": {
    "scrolled": true,
    "tags": []
   },
   "outputs": [
    {
     "name": "stdout",
     "output_type": "stream",
     "text": [
      "Epoch 1/15\n",
      "49/49 [==============================] - 28s 551ms/step - loss: 1.5958 - accuracy: 0.2749 - val_loss: 1.5565 - val_accuracy: 0.3608\n",
      "Epoch 2/15\n",
      "49/49 [==============================] - 24s 488ms/step - loss: 1.4739 - accuracy: 0.6975 - val_loss: 1.4094 - val_accuracy: 0.8488\n",
      "Epoch 3/15\n",
      "49/49 [==============================] - 25s 502ms/step - loss: 1.1490 - accuracy: 0.9107 - val_loss: 0.9466 - val_accuracy: 0.8817\n",
      "Epoch 4/15\n",
      "49/49 [==============================] - 24s 494ms/step - loss: 0.6336 - accuracy: 0.9216 - val_loss: 0.5126 - val_accuracy: 0.9012\n",
      "Epoch 5/15\n",
      "49/49 [==============================] - 24s 480ms/step - loss: 0.3097 - accuracy: 0.9557 - val_loss: 0.3341 - val_accuracy: 0.9296\n",
      "Epoch 6/15\n",
      "49/49 [==============================] - 23s 468ms/step - loss: 0.1637 - accuracy: 0.9801 - val_loss: 0.2619 - val_accuracy: 0.9356\n",
      "Epoch 7/15\n",
      "49/49 [==============================] - 23s 462ms/step - loss: 0.0943 - accuracy: 0.9910 - val_loss: 0.2238 - val_accuracy: 0.9431\n",
      "Epoch 8/15\n",
      "49/49 [==============================] - 17s 348ms/step - loss: 0.0572 - accuracy: 0.9981 - val_loss: 0.2048 - val_accuracy: 0.9461\n",
      "Epoch 9/15\n",
      "49/49 [==============================] - 16s 326ms/step - loss: 0.0371 - accuracy: 0.9994 - val_loss: 0.1902 - val_accuracy: 0.9476\n",
      "Epoch 10/15\n",
      "49/49 [==============================] - 16s 322ms/step - loss: 0.0253 - accuracy: 1.0000 - val_loss: 0.1811 - val_accuracy: 0.9476\n",
      "Epoch 11/15\n",
      "49/49 [==============================] - 16s 325ms/step - loss: 0.0183 - accuracy: 1.0000 - val_loss: 0.1764 - val_accuracy: 0.9491\n",
      "Epoch 12/15\n",
      "49/49 [==============================] - 17s 356ms/step - loss: 0.0138 - accuracy: 1.0000 - val_loss: 0.1715 - val_accuracy: 0.9506\n",
      "Epoch 13/15\n",
      "49/49 [==============================] - 25s 504ms/step - loss: 0.0108 - accuracy: 1.0000 - val_loss: 0.1685 - val_accuracy: 0.9521\n",
      "Epoch 14/15\n",
      "49/49 [==============================] - 25s 506ms/step - loss: 0.0087 - accuracy: 1.0000 - val_loss: 0.1659 - val_accuracy: 0.9506\n",
      "Epoch 15/15\n",
      "49/49 [==============================] - 24s 498ms/step - loss: 0.0071 - accuracy: 1.0000 - val_loss: 0.1637 - val_accuracy: 0.9521\n"
     ]
    }
   ],
   "source": [
    "# history=model.fit(train,epochs=50,validation_data=val)\n",
    "history=model.fit(data_train,df_train['targets'],epochs=15,validation_data=[data_test,df_test['targets']])"
   ]
  },
  {
   "cell_type": "code",
   "execution_count": 262,
   "id": "38409f66-fa09-4f16-a474-79e89c2bd696",
   "metadata": {},
   "outputs": [],
   "source": [
    "model.save('./saved_models/TextClassification.h5')"
   ]
  },
  {
   "cell_type": "code",
   "execution_count": 266,
   "id": "5483eab2-34de-4222-8f3e-4e588e3206c8",
   "metadata": {},
   "outputs": [
    {
     "data": {
      "text/plain": [
       "<Figure size 800x500 with 0 Axes>"
      ]
     },
     "metadata": {},
     "output_type": "display_data"
    },
    {
     "data": {
      "image/png": "[encoded data removed]",
      "text/plain": [
       "<Figure size 640x480 with 1 Axes>"
      ]
     },
     "metadata": {},
     "output_type": "display_data"
    }
   ],
   "source": [
    "plt.figure(figsize=(8,5))\n",
    "pd.DataFrame(history.history).plot()\n",
    "plt.show()"
   ]
  },
  {
   "cell_type": "code",
   "execution_count": null,
   "id": "c1511de1-d8ba-4fd9-9304-2f41a3484ec6",
   "metadata": {},
   "outputs": [],
   "source": []
  }
 ],
 "metadata": {
  "kernelspec": {
   "display_name": "Python 3 (ipykernel)",
   "language": "python",
   "name": "python3"
  },
  "language_info": {
   "codemirror_mode": {
    "name": "ipython",
    "version": 3
   },
   "file_extension": ".py",
   "mimetype": "text/x-python",
   "name": "python",
   "nbconvert_exporter": "python",
   "pygments_lexer": "ipython3",
   "version": "3.10.8"
  }
 },
 "nbformat": 4,
 "nbformat_minor": 5
}
